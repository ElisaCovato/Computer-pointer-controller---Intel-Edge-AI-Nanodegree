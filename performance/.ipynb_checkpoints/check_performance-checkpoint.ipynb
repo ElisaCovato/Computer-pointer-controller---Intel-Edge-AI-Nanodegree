{
 "cells": [
  {
   "cell_type": "markdown",
   "metadata": {},
   "source": [
    "# Computer Pointer Controller - Performance\n",
    "\n",
    "The aim of this Python Notebook is to compare the app performance on different hardwares and with different model precisions.\n",
    "\n",
    "Model precisions tested:\n",
    "- FP32\n",
    "- FP16\n",
    "- INT8\n",
    "\n",
    "Hardwares tested:\n",
    "- CPU (2.3 GHz Intel Core i5)\n",
    "- VPU (Neural Compute Stick 2 - only FP16 supported)"
   ]
  },
  {
   "cell_type": "code",
   "execution_count": 29,
   "metadata": {},
   "outputs": [],
   "source": [
    "# Import dependencies\n",
    "import sys\n",
    "import os\n",
    "import subprocess\n",
    "from IPython.display import HTML"
   ]
  },
  {
   "cell_type": "markdown",
   "metadata": {},
   "source": [
    "The performance has been tested using the following demo video:"
   ]
  },
  {
   "cell_type": "code",
   "execution_count": 30,
   "metadata": {},
   "outputs": [
    {
     "data": {
      "text/html": [
       "\n",
       "    <video width=\"860\" height=\"415\"  alt=\"test\" controls>\n",
       "        <source src=\"../media/demo.mp4\" type=\"video/mp4\">\n",
       "    </video>\n",
       "    "
      ],
      "text/plain": [
       "<IPython.core.display.HTML object>"
      ]
     },
     "execution_count": 30,
     "metadata": {},
     "output_type": "execute_result"
    }
   ],
   "source": [
    "from IPython.display import HTML\n",
    "\n",
    "HTML(\"\"\"\n",
    "    <video width=\"860\" height=\"415\"  alt=\"test\" controls>\n",
    "        <source src=\"../media/demo.mp4\" type=\"video/mp4\">\n",
    "    </video>\n",
    "    \"\"\")"
   ]
  },
  {
   "cell_type": "markdown",
   "metadata": {},
   "source": [
    "## Step 1: Performance bash script\n",
    "\n",
    "Create a bash script to test the performance of the app"
   ]
  },
  {
   "cell_type": "code",
   "execution_count": 34,
   "metadata": {},
   "outputs": [
    {
     "name": "stdout",
     "output_type": "stream",
     "text": [
      "Overwriting performance.sh\n"
     ]
    }
   ],
   "source": [
    "%%writefile performance.sh\n",
    "#!/bin/bash\n",
    "\n",
    "\n",
    "\n",
    "\n",
    "DEVICE=$1\n",
    "PRECISION=$2\n",
    "INPUT_FILE=$3\n",
    "\n",
    "if [ \"$PRECISION\" = \"FP32\" ]; then\n",
    "    FACEMODELPATH=../models/intel/face-detection-adas-binary-0001/FP32/face-detection-adas-binary-0001\n",
    "    POSEMODELPATH=../models/intel/head-pose-estimation-adas-0001/FP32/head-pose-estimation-adas-0001\n",
    "    LANDMARKSMODELPATH=../models/intel/landmarks-regression-retail-0009/FP32/landmarks-regression-retail-0009   \n",
    "    GAZEMODELPATH=../models/intel/gaze-estimation-adas-0002/FP32/gaze-estimation-adas-000      \n",
    "elif [ \"$PRECISION\" = \"FP16\" ]; then\n",
    "    FACEMODELPATH=../models/intel/face-detection-adas-binary-0001/FP16/face-detection-adas-binary-0001\n",
    "    POSEMODELPATH=../models/intel/head-pose-estimation-adas-0001/FP16/head-pose-estimation-adas-0001\n",
    "    LANDMARKSMODELPATH=../models/intel/landmarks-regression-retail-0009/FP16/landmarks-regression-retail-0009   \n",
    "    GAZEMODELPATH=../models/intel/gaze-estimation-adas-0002/FP16/gaze-estimation-adas-0002\n",
    "else \n",
    "    FACEMODELPATH=../models/intel/face-detection-adas-binary-0001/FP16-INT8/face-detection-adas-binary-0001\n",
    "    POSEMODELPATH=../models/intel/head-pose-estimation-adas-0001/FP16-INT8/head-pose-estimation-adas-0001\n",
    "    LANDMARKSMODELPATH=../models/intel/landmarks-regression-retail-0009/FP16-INT8/landmarks-regression-retail-0009    \n",
    "    GAZEMODELPATH=../models/intel/gaze-estimation-adas-0002/FP16-INT8/gaze-estimation-adas-0002\n",
    "\n",
    "python3 ../main.py -fm ${FACEMODELPATH} \\\n",
    "                -pm ${POSEMODELPATH} \\\n",
    "                -lm ${LANDMARKSMODELPATH} \\\n",
    "                -gm ${GAZEMODELPATH} \\\n",
    "                -i ${INPUT_FILE} \\\n",
    "                -d ${DEVICE} \n"
   ]
  },
  {
   "cell_type": "markdown",
   "metadata": {},
   "source": [
    "## Step 2: CPU\n",
    "\n",
    "Check app performance on CPU"
   ]
  },
  {
   "cell_type": "code",
   "execution_count": 42,
   "metadata": {},
   "outputs": [
    {
     "data": {
      "text/plain": [
       "512"
      ]
     },
     "execution_count": 42,
     "metadata": {},
     "output_type": "execute_result"
    }
   ],
   "source": [
    "# Run  on CPU with models precision = FP32\n",
    "output_path = \"performance/cpu/fp32\"\n",
    "device = \"CPU\"\n",
    "precision = \"FP32\"\n",
    "input_file = \"../media/demo.mp4\"\n",
    "params = ' {} {} {} '.format(device, precision, input_file)\n",
    "os.system(\"bash performance.sh\")\n"
   ]
  },
  {
   "cell_type": "code",
   "execution_count": null,
   "metadata": {},
   "outputs": [],
   "source": []
  },
  {
   "cell_type": "code",
   "execution_count": null,
   "metadata": {},
   "outputs": [],
   "source": []
  },
  {
   "cell_type": "code",
   "execution_count": null,
   "metadata": {},
   "outputs": [],
   "source": []
  },
  {
   "cell_type": "code",
   "execution_count": null,
   "metadata": {},
   "outputs": [],
   "source": []
  },
  {
   "cell_type": "code",
   "execution_count": null,
   "metadata": {},
   "outputs": [],
   "source": []
  },
  {
   "cell_type": "code",
   "execution_count": null,
   "metadata": {},
   "outputs": [],
   "source": []
  },
  {
   "cell_type": "code",
   "execution_count": null,
   "metadata": {},
   "outputs": [],
   "source": []
  },
  {
   "cell_type": "code",
   "execution_count": null,
   "metadata": {},
   "outputs": [],
   "source": []
  },
  {
   "cell_type": "code",
   "execution_count": null,
   "metadata": {},
   "outputs": [],
   "source": []
  },
  {
   "cell_type": "code",
   "execution_count": null,
   "metadata": {},
   "outputs": [],
   "source": []
  },
  {
   "cell_type": "code",
   "execution_count": null,
   "metadata": {},
   "outputs": [],
   "source": []
  },
  {
   "cell_type": "code",
   "execution_count": null,
   "metadata": {},
   "outputs": [],
   "source": []
  },
  {
   "cell_type": "code",
   "execution_count": null,
   "metadata": {},
   "outputs": [],
   "source": []
  }
 ],
 "metadata": {
  "kernelspec": {
   "display_name": "Python 3",
   "language": "python",
   "name": "python3"
  },
  "language_info": {
   "codemirror_mode": {
    "name": "ipython",
    "version": 3
   },
   "file_extension": ".py",
   "mimetype": "text/x-python",
   "name": "python",
   "nbconvert_exporter": "python",
   "pygments_lexer": "ipython3",
   "version": "3.7.4"
  }
 },
 "nbformat": 4,
 "nbformat_minor": 2
}
