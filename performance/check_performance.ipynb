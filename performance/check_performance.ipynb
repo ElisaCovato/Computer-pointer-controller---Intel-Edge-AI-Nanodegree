{
 "cells": [
  {
   "cell_type": "markdown",
   "metadata": {},
   "source": [
    "# Computer Pointer Controller - Performance\n",
    "\n",
    "The aim of this Python Notebook is to compare the app performance on different hardwares and with different model precisions.\n",
    "\n",
    "Model precisions tested:\n",
    "- FP32\n",
    "- FP16\n",
    "- INT8\n",
    "\n",
    "Hardwares tested:\n",
    "- CPU (2.3 GHz Intel Core i5)\n",
    "- VPU (Neural Compute Stick 2 - only FP16 supported)"
   ]
  },
  {
   "cell_type": "code",
   "execution_count": 28,
   "metadata": {},
   "outputs": [],
   "source": [
    "# Import dependencies\n",
    "from IPython.display import HTML\n",
    "import matplotlib.pyplot as plt"
   ]
  },
  {
   "cell_type": "markdown",
   "metadata": {},
   "source": [
    "The performance has been tested using the following demo video:"
   ]
  },
  {
   "cell_type": "code",
   "execution_count": 29,
   "metadata": {
    "scrolled": true
   },
   "outputs": [
    {
     "data": {
      "text/html": [
       "\n",
       "    <video width=\"860\" height=\"415\"  alt=\"test\" controls>\n",
       "        <source src=\"../media/demo.mp4\" type=\"video/mp4\">\n",
       "    </video>\n",
       "    "
      ],
      "text/plain": [
       "<IPython.core.display.HTML object>"
      ]
     },
     "execution_count": 29,
     "metadata": {},
     "output_type": "execute_result"
    }
   ],
   "source": [
    "from IPython.display import HTML\n",
    "\n",
    "HTML(\"\"\"\n",
    "    <video width=\"860\" height=\"415\"  alt=\"test\" controls>\n",
    "        <source src=\"../media/demo.mp4\" type=\"video/mp4\">\n",
    "    </video>\n",
    "    \"\"\")"
   ]
  },
  {
   "cell_type": "markdown",
   "metadata": {},
   "source": [
    "## Set up\n",
    "\n",
    "The following functions and variables are used to create the command to run in roder to generate some performance stats. "
   ]
  },
  {
   "cell_type": "code",
   "execution_count": 30,
   "metadata": {},
   "outputs": [],
   "source": [
    "input_file = \"./media/demo.mp4\""
   ]
  },
  {
   "cell_type": "code",
   "execution_count": 31,
   "metadata": {},
   "outputs": [],
   "source": [
    "# Function to set the model path according to the precision (FP32/FP16/INT8) \n",
    "def set_model_path(precision):\n",
    "    if precision == 'FP32':\n",
    "        FACEMODELPATH=\"./models/intel/face-detection-adas-0001/FP32/face-detection-adas-0001\"\n",
    "        POSEMODELPATH=\"./models/intel/head-pose-estimation-adas-0001/FP32/head-pose-estimation-adas-0001\"\n",
    "        LANDMARKSMODELPATH=\"./models/intel/landmarks-regression-retail-0009/FP32/landmarks-regression-retail-0009\"   \n",
    "        GAZEMODELPATH=\"./models/intel/gaze-estimation-adas-0002/FP32/gaze-estimation-adas-0002\" \n",
    "    elif precision == 'FP16':\n",
    "        FACEMODELPATH=\"./models/intel/face-detection-adas-0001/FP16/face-detection-adas-0001\"\n",
    "        POSEMODELPATH=\"./models/intel/head-pose-estimation-adas-0001/FP16/head-pose-estimation-adas-0001\"\n",
    "        LANDMARKSMODELPATH=\"./models/intel/landmarks-regression-retail-0009/FP16/landmarks-regression-retail-0009\"   \n",
    "        GAZEMODELPATH=\"./models/intel/gaze-estimation-adas-0002/FP16/gaze-estimation-adas-0002\"\n",
    "    elif precision == 'INT8':\n",
    "        FACEMODELPATH=\"./models/intel/face-detection-adas-0001/FP16-INT8/face-detection-adas-0001\"\n",
    "        POSEMODELPATH=\"./models/intel/head-pose-estimation-adas-0001/FP16-INT8/head-pose-estimation-adas-0001\"\n",
    "        LANDMARKSMODELPATH=\"./models/intel/landmarks-regression-retail-0009/FP16-INT8/landmarks-regression-retail-0009\"    \n",
    "        GAZEMODELPATH=\"./models/intel/gaze-estimation-adas-0002/FP16-INT8/gaze-estimation-adas-0002\"\n",
    "    else:\n",
    "        FACEMODELPATH, POSEMODELPATH, LANDMARKSMODELPATH, GAZEMODELPATH = [], [], [], []\n",
    "        raise ValueError(\"Specify a suitable precision: FP32, FP16 or INT8\")\n",
    "        \n",
    "    return FACEMODELPATH, POSEMODELPATH, LANDMARKSMODELPATH, GAZEMODELPATH"
   ]
  },
  {
   "cell_type": "code",
   "execution_count": 32,
   "metadata": {},
   "outputs": [],
   "source": [
    "# Function to set the output for the stats file\n",
    "def set_output_path(device, precision):\n",
    "    output_path = \"./performance/\" + device + \"/\" + precision + \".txt\"\n",
    "    return output_path"
   ]
  },
  {
   "cell_type": "code",
   "execution_count": 33,
   "metadata": {},
   "outputs": [],
   "source": [
    "# Function to create command to run\n",
    "def create_command(device, fm, pm, lm, gm, o, i):\n",
    "    if device == 'NCS2':\n",
    "        device = 'MYRIAD'\n",
    "    cmd = \"python3 main.py -fm \" + fm + \" -pm \" + pm + \" -lm \" + lm + \" -gm \" + gm + \" -i \" + i + \" -o_stats \" + o + \" -d \" + device\n",
    "    return cmd\n",
    "    "
   ]
  },
  {
   "cell_type": "markdown",
   "metadata": {},
   "source": [
    "## CPU\n",
    "\n",
    "Application performance on CPU."
   ]
  },
  {
   "cell_type": "code",
   "execution_count": 34,
   "metadata": {},
   "outputs": [],
   "source": [
    "device = 'CPU'"
   ]
  },
  {
   "cell_type": "markdown",
   "metadata": {},
   "source": [
    "### Precision: FP32"
   ]
  },
  {
   "cell_type": "code",
   "execution_count": 35,
   "metadata": {},
   "outputs": [],
   "source": [
    "# Create command to generate stats\n",
    "precision = 'FP32'\n",
    "FACEMODELPATH, POSEMODELPATH, LANDMARKSMODELPATH, GAZEMODELPATH = set_model_path(precision)\n",
    "OUTPUTSTATS = set_output_path(device, precision)"
   ]
  },
  {
   "cell_type": "code",
   "execution_count": 36,
   "metadata": {},
   "outputs": [
    {
     "data": {
      "text/plain": [
       "'python3 main.py -fm ./models/intel/face-detection-adas-0001/FP32/face-detection-adas-0001 -pm ./models/intel/head-pose-estimation-adas-0001/FP32/head-pose-estimation-adas-0001 -lm ./models/intel/landmarks-regression-retail-0009/FP32/landmarks-regression-retail-0009 -gm ./models/intel/gaze-estimation-adas-0002/FP32/gaze-estimation-adas-0002 -i ./media/demo.mp4 -o_stats ./performance/CPU/FP32.txt -d CPU'"
      ]
     },
     "execution_count": 36,
     "metadata": {},
     "output_type": "execute_result"
    }
   ],
   "source": [
    "\n",
    "create_command(device, FACEMODELPATH, POSEMODELPATH, LANDMARKSMODELPATH, GAZEMODELPATH, OUTPUTSTATS, input_file)"
   ]
  },
  {
   "cell_type": "markdown",
   "metadata": {},
   "source": [
    "### Precision: FP16"
   ]
  },
  {
   "cell_type": "code",
   "execution_count": 37,
   "metadata": {},
   "outputs": [],
   "source": [
    "# Create command to generate stats\n",
    "precision = 'FP16'\n",
    "FACEMODELPATH, POSEMODELPATH, LANDMARKSMODELPATH, GAZEMODELPATH = set_model_path(precision)\n",
    "OUTPUTSTATS = set_output_path(device, precision)"
   ]
  },
  {
   "cell_type": "code",
   "execution_count": 38,
   "metadata": {},
   "outputs": [
    {
     "data": {
      "text/plain": [
       "'python3 main.py -fm ./models/intel/face-detection-adas-0001/FP16/face-detection-adas-0001 -pm ./models/intel/head-pose-estimation-adas-0001/FP16/head-pose-estimation-adas-0001 -lm ./models/intel/landmarks-regression-retail-0009/FP16/landmarks-regression-retail-0009 -gm ./models/intel/gaze-estimation-adas-0002/FP16/gaze-estimation-adas-0002 -i ./media/demo.mp4 -o_stats ./performance/CPU/FP16.txt -d CPU'"
      ]
     },
     "execution_count": 38,
     "metadata": {},
     "output_type": "execute_result"
    }
   ],
   "source": [
    "create_command(device, FACEMODELPATH, POSEMODELPATH, LANDMARKSMODELPATH, GAZEMODELPATH, OUTPUTSTATS, input_file)"
   ]
  },
  {
   "cell_type": "markdown",
   "metadata": {},
   "source": [
    "### Precision: INT8"
   ]
  },
  {
   "cell_type": "code",
   "execution_count": 39,
   "metadata": {},
   "outputs": [],
   "source": [
    "# Create command to generate stats\n",
    "precision = 'INT8'\n",
    "FACEMODELPATH, POSEMODELPATH, LANDMARKSMODELPATH, GAZEMODELPATH = set_model_path(precision)\n",
    "OUTPUTSTATS = set_output_path(device, precision)"
   ]
  },
  {
   "cell_type": "code",
   "execution_count": 40,
   "metadata": {},
   "outputs": [
    {
     "data": {
      "text/plain": [
       "'python3 main.py -fm ./models/intel/face-detection-adas-0001/FP16-INT8/face-detection-adas-0001 -pm ./models/intel/head-pose-estimation-adas-0001/FP16-INT8/head-pose-estimation-adas-0001 -lm ./models/intel/landmarks-regression-retail-0009/FP16-INT8/landmarks-regression-retail-0009 -gm ./models/intel/gaze-estimation-adas-0002/FP16-INT8/gaze-estimation-adas-0002 -i ./media/demo.mp4 -o_stats ./performance/CPU/INT8.txt -d CPU'"
      ]
     },
     "execution_count": 40,
     "metadata": {},
     "output_type": "execute_result"
    }
   ],
   "source": [
    "create_command(device, FACEMODELPATH, POSEMODELPATH, LANDMARKSMODELPATH, GAZEMODELPATH, OUTPUTSTATS, input_file)"
   ]
  },
  {
   "cell_type": "markdown",
   "metadata": {},
   "source": [
    "## NCS2\n",
    "\n",
    "Create commands to generates stats about application perform on VPU / NCS2.\n",
    "\n",
    "**Note:** NCS2 runs only with FP16 models."
   ]
  },
  {
   "cell_type": "code",
   "execution_count": 41,
   "metadata": {},
   "outputs": [],
   "source": [
    "device = 'NCS2'"
   ]
  },
  {
   "cell_type": "markdown",
   "metadata": {},
   "source": [
    "### Precision: FP16"
   ]
  },
  {
   "cell_type": "code",
   "execution_count": 42,
   "metadata": {},
   "outputs": [],
   "source": [
    "# Create command to generate stats\n",
    "precision = 'FP16'\n",
    "FACEMODELPATH, POSEMODELPATH, LANDMARKSMODELPATH, GAZEMODELPATH = set_model_path(precision)\n",
    "OUTPUTSTATS = set_output_path(device, precision)"
   ]
  },
  {
   "cell_type": "code",
   "execution_count": 43,
   "metadata": {},
   "outputs": [
    {
     "data": {
      "text/plain": [
       "'python3 main.py -fm ./models/intel/face-detection-adas-0001/FP16/face-detection-adas-0001 -pm ./models/intel/head-pose-estimation-adas-0001/FP16/head-pose-estimation-adas-0001 -lm ./models/intel/landmarks-regression-retail-0009/FP16/landmarks-regression-retail-0009 -gm ./models/intel/gaze-estimation-adas-0002/FP16/gaze-estimation-adas-0002 -i ./media/demo.mp4 -o_stats ./performance/NCS2/FP16.txt -d MYRIAD'"
      ]
     },
     "execution_count": 43,
     "metadata": {},
     "output_type": "execute_result"
    }
   ],
   "source": [
    "create_command(device, FACEMODELPATH, POSEMODELPATH, LANDMARKSMODELPATH, GAZEMODELPATH, OUTPUTSTATS, input_file)"
   ]
  },
  {
   "cell_type": "markdown",
   "metadata": {},
   "source": [
    "## Analyse stats files\n",
    "\n",
    "Run the above commands to generate the text files with stats about the application performance.\n",
    "**Note**: commands need to be run from the main application directory, where the `main.py` file is located."
   ]
  },
  {
   "cell_type": "markdown",
   "metadata": {},
   "source": [
    "### CPU\n",
    "\n",
    "Let's compare the performance of the application on the CPU."
   ]
  },
  {
   "cell_type": "code",
   "execution_count": 44,
   "metadata": {},
   "outputs": [],
   "source": [
    "# CPU performance data\n",
    "precisions = ['FP32', 'FP16', 'INT8']\n",
    "model_load_time=[]\n",
    "inference_time=[]\n",
    "fps=[]\n",
    "\n",
    "for prec in precisions:\n",
    "    stats_path = set_output_path('CPU', prec)\n",
    "    stats_file = stats_path.split(\"/\", maxsplit=2)[2]\n",
    "    # Open file and get data out\n",
    "    with open(stats_file, 'r') as f:\n",
    "        model_load_time.append(float(f.readline().split(\"\\n\")[0].split(\" \")[4]))\n",
    "        inference_time.append(float(f.readline().split(\"\\n\")[0].split(\" \")[4]))\n",
    "        fps.append(float(f.readline().split(\"\\n\")[0].split(\" \")[3]))    "
   ]
  },
  {
   "cell_type": "code",
   "execution_count": 45,
   "metadata": {
    "scrolled": true
   },
   "outputs": [
    {
     "data": {
      "image/png": "[encoded data removed]",
      "text/plain": [
       "<Figure size 1152x360 with 3 Axes>"
      ]
     },
     "metadata": {
      "needs_background": "light"
     },
     "output_type": "display_data"
    }
   ],
   "source": [
    "#  Plot data\n",
    "\n",
    "def add_bar_labels(plot, axis):\n",
    "    for value in plot:\n",
    "        height = value.get_height()\n",
    "        axis.text(value.get_x() + value.get_width()/2.,\n",
    "             1.007*height,'%.2f' % height, ha='center', va='bottom')\n",
    "\n",
    "fig, (ax1, ax2, ax3) =  plt.subplots(nrows=1, ncols=3, figsize=(16,5))\n",
    "\n",
    "p1 = ax1.bar(precisions, inference_time)\n",
    "ax1.set_title(\"CPU Inference Time (s)\", fontweight='bold')\n",
    "add_bar_labels(p1, ax1)\n",
    "\n",
    "p2 = ax2.bar(precisions, model_load_time)\n",
    "ax2.set_title(\"CPU Models Loading Time (s)\", fontweight='bold')\n",
    "add_bar_labels(p2, ax2)\n",
    "\n",
    "p3 = ax3.bar(precisions, fps)\n",
    "ax3.set_title(\"CPU Frames Per Second (fps)\", fontweight='bold')\n",
    "add_bar_labels(p3, ax3)\n",
    "\n",
    "plt.tight_layout()\n",
    "# plt.show()\n",
    "plt.savefig(\"cpu_performance\")"
   ]
  },
  {
   "cell_type": "markdown",
   "metadata": {},
   "source": [
    "Looking at the above charts, and because face detection is a key information that we pass to the other three models, it would be recommended, when running the application on a CPU, to use a Face Detection model in Precision 32 bits and the other models in 16 bits.\n",
    "\n",
    "The command to run is:\n",
    "\n",
    "`\n",
    "python3 main.py -fm ./models/intel/face-detection-adas-0001/FP32/face-detection-adas-0001 -pm ./models/intel/head-pose-estimation-adas-0001/FP16/head-pose-estimation-adas-0001 -lm ./models/intel/landmarks-regression-retail-0009/FP16/landmarks-regression-retail-0009 -gm ./models/intel/gaze-estimation-adas-0002/FP16/gaze-estimation-adas-0002 -i ./media/demo.mp4  -d CPU\n",
    "`\n",
    "\n",
    "and we obtain:\n",
    "\n",
    "|Model Combination                      | Total inference time | Models loading time | Frames Per Second |\n",
    "| ------------------------------------- | ------------------- | -------------------- | ----------------- |\n",
    "| face-detection-adas - FP32<br>head-pose-estimation-adas - FP16<br>facial-landmarks-35-adas - FP16<br>gaze-estimation-adas - FP16|   24.24s |  0.67 | 24.57 fps |\n",
    " \n",
    "\n"
   ]
  },
  {
   "cell_type": "markdown",
   "metadata": {},
   "source": [
    "### CPU vs NCS2\n",
    "\n",
    "Let's compare the application performance on CPU and NCS2.\n",
    "\n",
    "**Note:** NCS2 accepts only **FP16** precision models."
   ]
  },
  {
   "cell_type": "code",
   "execution_count": 46,
   "metadata": {},
   "outputs": [],
   "source": [
    "# CPU vs NCS2 performance data\n",
    "device = ['CPU', 'NCS2']\n",
    "precision = 'FP16'\n",
    "model_load_time=[]\n",
    "inference_time=[]\n",
    "fps=[]\n",
    "\n",
    "for d in device:\n",
    "    stats_path = set_output_path(d, precision)\n",
    "    stats_file = stats_path.split(\"/\", maxsplit=2)[2]\n",
    "    # Open file and get data out\n",
    "    with open(stats_file, 'r') as f:\n",
    "        model_load_time.append(float(f.readline().split(\"\\n\")[0].split(\" \")[4]))\n",
    "        inference_time.append(float(f.readline().split(\"\\n\")[0].split(\" \")[4]))\n",
    "        fps.append(float(f.readline().split(\"\\n\")[0].split(\" \")[3]))  "
   ]
  },
  {
   "cell_type": "code",
   "execution_count": 47,
   "metadata": {},
   "outputs": [
    {
     "data": {
      "image/png": "[encoded data removed]",
      "text/plain": [
       "<Figure size 1008x360 with 3 Axes>"
      ]
     },
     "metadata": {
      "needs_background": "light"
     },
     "output_type": "display_data"
    }
   ],
   "source": [
    "# Plot the data\n",
    "\n",
    "fig, (ax1, ax2, ax3) =  plt.subplots(nrows=1, ncols=3, figsize=(14,5))\n",
    "\n",
    "p1 = ax1.bar(device, inference_time)\n",
    "ax1.set_title(\"Inference Time (s)\", fontweight='bold')\n",
    "add_bar_labels(p1, ax1)\n",
    "\n",
    "p2 = ax2.bar(device, model_load_time)\n",
    "ax2.set_title(\"Models Loading Time (s)\", fontweight='bold')\n",
    "add_bar_labels(p2, ax2)\n",
    "\n",
    "p3 = ax3.bar(device, fps)\n",
    "ax3.set_title(\"Frames Per Second (fps)\", fontweight='bold')\n",
    "add_bar_labels(p3, ax3)\n",
    "\n",
    "plt.tight_layout()\n",
    "# plt.show()\n",
    "plt.savefig(\"ncs2_vs_cpu\")"
   ]
  },
  {
   "cell_type": "markdown",
   "metadata": {},
   "source": [
    "As the above charts show, the application performs better when runs on CPU. However NCS2 is sitll a valid option when space and money are a constraint to the use case."
   ]
  },
  {
   "cell_type": "markdown",
   "metadata": {},
   "source": [
    "### Async vs Sync\n",
    "\n",
    "By default the application will run inferences in **asynchronous mode**. However, the user can add `-sync_mode` to the commands line arguments to run **synchronous inferences** instead. This will have an an effect on application performance. \n",
    "\n",
    "To see how async/sync inference affects the performance,  run the following two commands to generates stats in both cases.\n",
    "\n",
    "Asynchronous:\n",
    "```\n",
    "python3 main.py -fm ./models/intel/face-detection-adas-0001/FP32/face-detection-adas-0001 -pm ./models/intel/head-pose-estimation-adas-0001/FP16/head-pose-estimation-adas-0001 -lm ./models/intel/landmarks-regression-retail-0009/FP16/landmarks-regression-retail-0009 -gm ./models/intel/gaze-estimation-adas-0002/FP16/gaze-estimation-adas-0002 -i ./media/demo.mp4  -d CPU -o_stats ./performance/infer_mode/async.txt\n",
    "```\n",
    "\n",
    "Synchronous:\n",
    "```\n",
    "python3 main.py -fm ./models/intel/face-detection-adas-0001/FP32/face-detection-adas-0001 -pm ./models/intel/head-pose-estimation-adas-0001/FP16/head-pose-estimation-adas-0001 -lm ./models/intel/landmarks-regression-retail-0009/FP16/landmarks-regression-retail-0009 -gm ./models/intel/gaze-estimation-adas-0002/FP16/gaze-estimation-adas-0002 -i ./media/demo.mp4  -d CPU --sync_mode -o_stats ./performance/infer_mode/sync.txt\n",
    "```\n"
   ]
  },
  {
   "cell_type": "code",
   "execution_count": 48,
   "metadata": {},
   "outputs": [],
   "source": [
    "# Async vs Sync performance data\n",
    "infer_mode = ['async', 'sync']\n",
    "model_load_time=[]\n",
    "inference_time=[]\n",
    "fps=[]\n",
    "\n",
    "for m in infer_mode:\n",
    "    stats_path = \"./performance/infer_mode/\" + m + \".txt\"\n",
    "    stats_file = stats_path.split(\"/\", maxsplit=2)[2]\n",
    "    # Open file and get data out\n",
    "    with open(stats_file, 'r') as f:\n",
    "        model_load_time.append(float(f.readline().split(\"\\n\")[0].split(\" \")[4]))\n",
    "        inference_time.append(float(f.readline().split(\"\\n\")[0].split(\" \")[4]))\n",
    "        fps.append(float(f.readline().split(\"\\n\")[0].split(\" \")[3]))  "
   ]
  },
  {
   "cell_type": "code",
   "execution_count": 49,
   "metadata": {},
   "outputs": [
    {
     "data": {
      "image/png": "[encoded data removed]",
      "text/plain": [
       "<Figure size 1008x360 with 3 Axes>"
      ]
     },
     "metadata": {
      "needs_background": "light"
     },
     "output_type": "display_data"
    }
   ],
   "source": [
    "# Plot the data\n",
    "\n",
    "fig, (ax1, ax2, ax3) =  plt.subplots(nrows=1, ncols=3, figsize=(14,5))\n",
    "\n",
    "p1 = ax1.bar(infer_mode, inference_time)\n",
    "ax1.set_title(\"Inference Time (s)\", fontweight='bold')\n",
    "add_bar_labels(p1, ax1)\n",
    "\n",
    "p2 = ax2.bar(infer_mode, model_load_time)\n",
    "ax2.set_title(\"Models Loading Time (s)\", fontweight='bold')\n",
    "add_bar_labels(p2, ax2)\n",
    "\n",
    "p3 = ax3.bar(infer_mode, fps)\n",
    "ax3.set_title(\"Frames Per Second (fps)\", fontweight='bold')\n",
    "add_bar_labels(p3, ax3)\n",
    "\n",
    "plt.tight_layout()\n",
    "# plt.show()\n",
    "plt.savefig(\"async_vs_sync\")"
   ]
  },
  {
   "cell_type": "markdown",
   "metadata": {},
   "source": [
    "In this case there is no much difference between the two inference modes. This because asynchronous inference is highly recommended when data or service availability/connectivity are low or oversaturated with demand, which is not the case for this specific application and the way in which has been run. However, it is preferable running async inference to overcome potential problems with connectivity and demand.\n"
   ]
  }
 ],
 "metadata": {
  "kernelspec": {
   "display_name": "Python 3",
   "language": "python",
   "name": "python3"
  },
  "language_info": {
   "codemirror_mode": {
    "name": "ipython",
    "version": 3
   },
   "file_extension": ".py",
   "mimetype": "text/x-python",
   "name": "python",
   "nbconvert_exporter": "python",
   "pygments_lexer": "ipython3",
   "version": "3.7.4"
  }
 },
 "nbformat": 4,
 "nbformat_minor": 2
}
