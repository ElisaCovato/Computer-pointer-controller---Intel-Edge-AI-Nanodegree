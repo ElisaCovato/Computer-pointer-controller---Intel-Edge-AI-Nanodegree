{
 "cells": [
  {
   "cell_type": "markdown",
   "metadata": {},
   "source": [
    "# Computer Pointer Controller - Performance\n",
    "\n",
    "The aim of this Python Notebook is to compare the app performance on different hardwares and with different model precisions.\n",
    "\n",
    "Model precisions tested:\n",
    "- FP32\n",
    "- FP16\n",
    "- INT8\n",
    "\n",
    "Hardwares tested:\n",
    "- CPU (2.3 GHz Intel Core i5)\n",
    "- VPU (Neural Compute Stick 2 - only FP16 supported)"
   ]
  },
  {
   "cell_type": "code",
   "execution_count": 364,
   "metadata": {},
   "outputs": [],
   "source": [
    "# Import dependencies\n",
    "from IPython.display import HTML\n",
    "import matplotlib.pyplot as plt"
   ]
  },
  {
   "cell_type": "markdown",
   "metadata": {},
   "source": [
    "The performance has been tested using the following demo video:"
   ]
  },
  {
   "cell_type": "code",
   "execution_count": 365,
   "metadata": {
    "scrolled": true
   },
   "outputs": [
    {
     "data": {
      "text/html": [
       "\n",
       "    <video width=\"860\" height=\"415\"  alt=\"test\" controls>\n",
       "        <source src=\"../media/demo.mp4\" type=\"video/mp4\">\n",
       "    </video>\n",
       "    "
      ],
      "text/plain": [
       "<IPython.core.display.HTML object>"
      ]
     },
     "execution_count": 365,
     "metadata": {},
     "output_type": "execute_result"
    }
   ],
   "source": [
    "from IPython.display import HTML\n",
    "\n",
    "HTML(\"\"\"\n",
    "    <video width=\"860\" height=\"415\"  alt=\"test\" controls>\n",
    "        <source src=\"../media/demo.mp4\" type=\"video/mp4\">\n",
    "    </video>\n",
    "    \"\"\")"
   ]
  },
  {
   "cell_type": "markdown",
   "metadata": {},
   "source": [
    "## Set up\n",
    "\n",
    "The following functions and variables are used to create the command to run in roder to generate some performance stats. "
   ]
  },
  {
   "cell_type": "code",
   "execution_count": 366,
   "metadata": {},
   "outputs": [],
   "source": [
    "input_file = \"./media/demo.mp4\""
   ]
  },
  {
   "cell_type": "code",
   "execution_count": 367,
   "metadata": {},
   "outputs": [],
   "source": [
    "# Function to set the model path according to the precision (FP32/FP16/INT8) \n",
    "def set_model_path(precision):\n",
    "    if precision == 'FP32':\n",
    "        FACEMODELPATH=\"./models/intel/face-detection-adas-0001/FP32/face-detection-adas-0001\"\n",
    "        POSEMODELPATH=\"./models/intel/head-pose-estimation-adas-0001/FP32/head-pose-estimation-adas-0001\"\n",
    "        LANDMARKSMODELPATH=\"./models/intel/landmarks-regression-retail-0009/FP32/landmarks-regression-retail-0009\"   \n",
    "        GAZEMODELPATH=\"./models/intel/gaze-estimation-adas-0002/FP32/gaze-estimation-adas-0002\" \n",
    "    elif precision == 'FP16':\n",
    "        FACEMODELPATH=\"./models/intel/face-detection-adas-0001/FP16/face-detection-adas-0001\"\n",
    "        POSEMODELPATH=\"./models/intel/head-pose-estimation-adas-0001/FP16/head-pose-estimation-adas-0001\"\n",
    "        LANDMARKSMODELPATH=\"./models/intel/landmarks-regression-retail-0009/FP16/landmarks-regression-retail-0009\"   \n",
    "        GAZEMODELPATH=\"./models/intel/gaze-estimation-adas-0002/FP16/gaze-estimation-adas-0002\"\n",
    "    elif precision == 'INT8':\n",
    "        FACEMODELPATH=\"./models/intel/face-detection-adas-0001/FP16-INT8/face-detection-adas-0001\"\n",
    "        POSEMODELPATH=\"./models/intel/head-pose-estimation-adas-0001/FP16-INT8/head-pose-estimation-adas-0001\"\n",
    "        LANDMARKSMODELPATH=\"./models/intel/landmarks-regression-retail-0009/FP16-INT8/landmarks-regression-retail-0009\"    \n",
    "        GAZEMODELPATH=\"./models/intel/gaze-estimation-adas-0002/FP16-INT8/gaze-estimation-adas-0002\"\n",
    "    else:\n",
    "        FACEMODELPATH, POSEMODELPATH, LANDMARKSMODELPATH, GAZEMODELPATH = [], [], [], []\n",
    "        raise ValueError(\"Specify a suitable precision: FP32, FP16 or INT8\")\n",
    "        \n",
    "    return FACEMODELPATH, POSEMODELPATH, LANDMARKSMODELPATH, GAZEMODELPATH"
   ]
  },
  {
   "cell_type": "code",
   "execution_count": 368,
   "metadata": {},
   "outputs": [],
   "source": [
    "# Function to set the output for the stats file\n",
    "def set_output_path(device, precision):\n",
    "    output_path = \"./performance/\" + device + \"/\" + precision + \".txt\"\n",
    "    return output_path"
   ]
  },
  {
   "cell_type": "code",
   "execution_count": 369,
   "metadata": {},
   "outputs": [],
   "source": [
    "# Function to create command to run\n",
    "def create_command(device, fm, pm, lm, gm, o, i):\n",
    "    cmd = \"python3 main.py -fm \" + fm + \" -pm \" + pm + \" -lm \" + lm + \" -gm \" + gm + \" -i \" + i + \" -o_stats \" + o + \" -d \" + device\n",
    "    return cmd\n",
    "    "
   ]
  },
  {
   "cell_type": "markdown",
   "metadata": {},
   "source": [
    "## CPU\n",
    "\n",
    "Application performance on CPU."
   ]
  },
  {
   "cell_type": "code",
   "execution_count": 370,
   "metadata": {},
   "outputs": [],
   "source": [
    "device = 'CPU'"
   ]
  },
  {
   "cell_type": "markdown",
   "metadata": {},
   "source": [
    "### Precision: FP32"
   ]
  },
  {
   "cell_type": "code",
   "execution_count": 371,
   "metadata": {},
   "outputs": [],
   "source": [
    "# Create command to generate stats\n",
    "precision = 'FP32'\n",
    "FACEMODELPATH, POSEMODELPATH, LANDMARKSMODELPATH, GAZEMODELPATH = set_model_path(precision)\n",
    "OUTPUTSTATS = set_output_path(device, precision)"
   ]
  },
  {
   "cell_type": "code",
   "execution_count": 373,
   "metadata": {},
   "outputs": [
    {
     "data": {
      "text/plain": [
       "'python3 main.py -fm ./models/intel/face-detection-adas-0001/FP32/face-detection-adas-0001 -pm ./models/intel/head-pose-estimation-adas-0001/FP32/head-pose-estimation-adas-0001 -lm ./models/intel/landmarks-regression-retail-0009/FP32/landmarks-regression-retail-0009 -gm ./models/intel/gaze-estimation-adas-0002/FP32/gaze-estimation-adas-0002 -i ./media/demo.mp4 -o_stats ./performance/CPU/FP32.txt -d CPU'"
      ]
     },
     "execution_count": 373,
     "metadata": {},
     "output_type": "execute_result"
    }
   ],
   "source": [
    "\n",
    "create_command(device, FACEMODELPATH, POSEMODELPATH, LANDMARKSMODELPATH, GAZEMODELPATH, OUTPUTSTATS, input_file)"
   ]
  },
  {
   "cell_type": "markdown",
   "metadata": {},
   "source": [
    "### Precision: FP16"
   ]
  },
  {
   "cell_type": "code",
   "execution_count": 374,
   "metadata": {},
   "outputs": [],
   "source": [
    "# Create command to generate stats\n",
    "precision = 'FP16'\n",
    "FACEMODELPATH, POSEMODELPATH, LANDMARKSMODELPATH, GAZEMODELPATH = set_model_path(precision)\n",
    "OUTPUTSTATS = set_output_path(device, precision)"
   ]
  },
  {
   "cell_type": "code",
   "execution_count": 376,
   "metadata": {},
   "outputs": [
    {
     "data": {
      "text/plain": [
       "'python3 main.py -fm ./models/intel/face-detection-adas-0001/FP16/face-detection-adas-0001 -pm ./models/intel/head-pose-estimation-adas-0001/FP16/head-pose-estimation-adas-0001 -lm ./models/intel/landmarks-regression-retail-0009/FP16/landmarks-regression-retail-0009 -gm ./models/intel/gaze-estimation-adas-0002/FP16/gaze-estimation-adas-0002 -i ./media/demo.mp4 -o_stats ./performance/CPU/FP16.txt -d CPU'"
      ]
     },
     "execution_count": 376,
     "metadata": {},
     "output_type": "execute_result"
    }
   ],
   "source": [
    "create_command(device, FACEMODELPATH, POSEMODELPATH, LANDMARKSMODELPATH, GAZEMODELPATH, OUTPUTSTATS, input_file)"
   ]
  },
  {
   "cell_type": "markdown",
   "metadata": {},
   "source": [
    "### Precision: INT8"
   ]
  },
  {
   "cell_type": "code",
   "execution_count": 379,
   "metadata": {},
   "outputs": [],
   "source": [
    "# Create command to generate stats\n",
    "precision = 'INT8'\n",
    "FACEMODELPATH, POSEMODELPATH, LANDMARKSMODELPATH, GAZEMODELPATH = set_model_path(precision)\n",
    "OUTPUTSTATS = set_output_path(device, precision)"
   ]
  },
  {
   "cell_type": "code",
   "execution_count": 380,
   "metadata": {},
   "outputs": [
    {
     "data": {
      "text/plain": [
       "'python3 main.py -fm ./models/intel/face-detection-adas-0001/FP16-INT8/face-detection-adas-0001 -pm ./models/intel/head-pose-estimation-adas-0001/FP16-INT8/head-pose-estimation-adas-0001 -lm ./models/intel/landmarks-regression-retail-0009/FP16-INT8/landmarks-regression-retail-0009 -gm ./models/intel/gaze-estimation-adas-0002/FP16-INT8/gaze-estimation-adas-0002 -i ./media/demo.mp4 -o_stats ./performance/CPU/INT8.txt -d CPU'"
      ]
     },
     "execution_count": 380,
     "metadata": {},
     "output_type": "execute_result"
    }
   ],
   "source": [
    "create_command(device, FACEMODELPATH, POSEMODELPATH, LANDMARKSMODELPATH, GAZEMODELPATH, OUTPUTSTATS, input_file)"
   ]
  },
  {
   "cell_type": "markdown",
   "metadata": {},
   "source": [
    "## NCS2\n",
    "\n",
    "Create commands to generates stats about application perform on VPU / NCS2.\n",
    "\n",
    "**Note:** NCS2 runs only with FP16 models."
   ]
  },
  {
   "cell_type": "code",
   "execution_count": 381,
   "metadata": {},
   "outputs": [],
   "source": [
    "device = 'MYRIAD'"
   ]
  },
  {
   "cell_type": "markdown",
   "metadata": {},
   "source": [
    "### Precision: FP16"
   ]
  },
  {
   "cell_type": "code",
   "execution_count": 382,
   "metadata": {},
   "outputs": [],
   "source": [
    "# Create command to generate stats\n",
    "precision = 'FP16'\n",
    "FACEMODELPATH, POSEMODELPATH, LANDMARKSMODELPATH, GAZEMODELPATH = set_model_path(precision)\n",
    "OUTPUTSTATS = set_output_path(device, precision)"
   ]
  },
  {
   "cell_type": "code",
   "execution_count": 384,
   "metadata": {},
   "outputs": [
    {
     "data": {
      "text/plain": [
       "'python3 main.py -fm ./models/intel/face-detection-adas-0001/FP16/face-detection-adas-0001 -pm ./models/intel/head-pose-estimation-adas-0001/FP16/head-pose-estimation-adas-0001 -lm ./models/intel/landmarks-regression-retail-0009/FP16/landmarks-regression-retail-0009 -gm ./models/intel/gaze-estimation-adas-0002/FP16/gaze-estimation-adas-0002 -i ./media/demo.mp4 -o_stats ./performance/MYRIAD/FP16.txt -d MYRIAD'"
      ]
     },
     "execution_count": 384,
     "metadata": {},
     "output_type": "execute_result"
    }
   ],
   "source": [
    "create_command(device, FACEMODELPATH, POSEMODELPATH, LANDMARKSMODELPATH, GAZEMODELPATH, OUTPUTSTATS, input_file)"
   ]
  },
  {
   "cell_type": "markdown",
   "metadata": {},
   "source": [
    "## Analyse stats files\n",
    "\n",
    "Run the above commands to generate the text files with stats about the application performance.\n",
    "**Note**: commands need to be run from the main application directory, where the `main.py` file is located."
   ]
  },
  {
   "cell_type": "code",
   "execution_count": 385,
   "metadata": {},
   "outputs": [],
   "source": [
    "# CPU performance data\n",
    "precisions = ['FP32', 'FP16', 'INT8']\n",
    "model_load_time=[]\n",
    "inference_time=[]\n",
    "fps=[]\n",
    "\n",
    "for prec in precisions:\n",
    "    stats_path = set_output_path('CPU', prec)\n",
    "    stats_file = stats_path.split(\"/\", maxsplit=2)[2]\n",
    "    # Open file and get data out\n",
    "    with open(stats_file, 'r') as f:\n",
    "        model_load_time.append(float(f.readline().split(\"\\n\")[0].split(\" \")[4]))\n",
    "        inference_time.append(float(f.readline().split(\"\\n\")[0].split(\" \")[4]))\n",
    "        fps.append(float(f.readline().split(\"\\n\")[0].split(\" \")[3]))    "
   ]
  },
  {
   "cell_type": "code",
   "execution_count": 386,
   "metadata": {},
   "outputs": [
    {
     "data": {
      "image/png": "[encoded data removed]",
      "text/plain": [
       "<Figure size 432x288 with 1 Axes>"
      ]
     },
     "metadata": {
      "needs_background": "light"
     },
     "output_type": "display_data"
    }
   ],
   "source": [
    "# Plot data\n",
    "plt.bar(precisions, inference_time)\n",
    "plt.xlabel(\"Model precision\")\n",
    "plt.ylabel(\"Total Inference Time (s)\")\n",
    "plt.title(\"CPU Inference Time\")\n",
    "plt.show()"
   ]
  },
  {
   "cell_type": "code",
   "execution_count": 387,
   "metadata": {},
   "outputs": [
    {
     "data": {
      "image/png": "[encoded data removed]",
      "text/plain": [
       "<Figure size 432x288 with 1 Axes>"
      ]
     },
     "metadata": {
      "needs_background": "light"
     },
     "output_type": "display_data"
    }
   ],
   "source": [
    "# Plot data\n",
    "plt.bar(precisions, model_load_time)\n",
    "plt.xlabel(\"Model precision\")\n",
    "plt.ylabel(\"Total loading time (s)\")\n",
    "plt.title(\"CPU Models Loading Time\")\n",
    "plt.show()"
   ]
  },
  {
   "cell_type": "code",
   "execution_count": 388,
   "metadata": {},
   "outputs": [
    {
     "data": {
      "image/png": "[encoded data removed]",
      "text/plain": [
       "<Figure size 432x288 with 1 Axes>"
      ]
     },
     "metadata": {
      "needs_background": "light"
     },
     "output_type": "display_data"
    }
   ],
   "source": [
    "# Plot data\n",
    "plt.bar(precisions, fps)\n",
    "plt.xlabel(\"Model precision\")\n",
    "plt.ylabel(\"FPS\")\n",
    "plt.title(\"CPU Frames Per Second\")\n",
    "plt.show()"
   ]
  },
  {
   "cell_type": "markdown",
   "metadata": {},
   "source": [
    "Looking at the above charts, and because face detection is a key information that we pass to the other three models, it would be recommended to use a Face Detection model in Precision 32 bits and the other models in 16 bits."
   ]
  },
  {
   "cell_type": "code",
   "execution_count": null,
   "metadata": {},
   "outputs": [],
   "source": []
  },
  {
   "cell_type": "code",
   "execution_count": null,
   "metadata": {},
   "outputs": [],
   "source": []
  },
  {
   "cell_type": "code",
   "execution_count": null,
   "metadata": {},
   "outputs": [],
   "source": []
  },
  {
   "cell_type": "code",
   "execution_count": null,
   "metadata": {},
   "outputs": [],
   "source": []
  },
  {
   "cell_type": "code",
   "execution_count": null,
   "metadata": {},
   "outputs": [],
   "source": []
  },
  {
   "cell_type": "code",
   "execution_count": null,
   "metadata": {},
   "outputs": [],
   "source": []
  },
  {
   "cell_type": "code",
   "execution_count": null,
   "metadata": {},
   "outputs": [],
   "source": []
  },
  {
   "cell_type": "code",
   "execution_count": null,
   "metadata": {},
   "outputs": [],
   "source": []
  },
  {
   "cell_type": "code",
   "execution_count": null,
   "metadata": {},
   "outputs": [],
   "source": []
  },
  {
   "cell_type": "code",
   "execution_count": null,
   "metadata": {},
   "outputs": [],
   "source": []
  },
  {
   "cell_type": "code",
   "execution_count": null,
   "metadata": {},
   "outputs": [],
   "source": []
  },
  {
   "cell_type": "code",
   "execution_count": null,
   "metadata": {},
   "outputs": [],
   "source": []
  },
  {
   "cell_type": "code",
   "execution_count": null,
   "metadata": {},
   "outputs": [],
   "source": []
  },
  {
   "cell_type": "code",
   "execution_count": null,
   "metadata": {},
   "outputs": [],
   "source": []
  },
  {
   "cell_type": "code",
   "execution_count": null,
   "metadata": {},
   "outputs": [],
   "source": []
  },
  {
   "cell_type": "code",
   "execution_count": null,
   "metadata": {},
   "outputs": [],
   "source": []
  },
  {
   "cell_type": "code",
   "execution_count": 344,
   "metadata": {},
   "outputs": [
    {
     "data": {
      "image/png": "[encoded data removed]",
      "text/plain": [
       "<Figure size 432x288 with 3 Axes>"
      ]
     },
     "metadata": {
      "needs_background": "light"
     },
     "output_type": "display_data"
    }
   ],
   "source": []
  },
  {
   "cell_type": "code",
   "execution_count": null,
   "metadata": {},
   "outputs": [],
   "source": []
  },
  {
   "cell_type": "code",
   "execution_count": null,
   "metadata": {},
   "outputs": [],
   "source": []
  },
  {
   "cell_type": "code",
   "execution_count": null,
   "metadata": {},
   "outputs": [],
   "source": []
  },
  {
   "cell_type": "code",
   "execution_count": null,
   "metadata": {},
   "outputs": [],
   "source": []
  },
  {
   "cell_type": "code",
   "execution_count": null,
   "metadata": {},
   "outputs": [],
   "source": []
  },
  {
   "cell_type": "code",
   "execution_count": null,
   "metadata": {},
   "outputs": [],
   "source": []
  },
  {
   "cell_type": "code",
   "execution_count": null,
   "metadata": {},
   "outputs": [],
   "source": []
  },
  {
   "cell_type": "code",
   "execution_count": null,
   "metadata": {},
   "outputs": [],
   "source": []
  },
  {
   "cell_type": "code",
   "execution_count": null,
   "metadata": {},
   "outputs": [],
   "source": []
  },
  {
   "cell_type": "code",
   "execution_count": null,
   "metadata": {},
   "outputs": [],
   "source": []
  },
  {
   "cell_type": "code",
   "execution_count": null,
   "metadata": {},
   "outputs": [],
   "source": []
  },
  {
   "cell_type": "code",
   "execution_count": null,
   "metadata": {},
   "outputs": [],
   "source": []
  },
  {
   "cell_type": "code",
   "execution_count": null,
   "metadata": {},
   "outputs": [],
   "source": []
  },
  {
   "cell_type": "code",
   "execution_count": null,
   "metadata": {},
   "outputs": [],
   "source": []
  },
  {
   "cell_type": "code",
   "execution_count": null,
   "metadata": {},
   "outputs": [],
   "source": []
  },
  {
   "cell_type": "code",
   "execution_count": null,
   "metadata": {},
   "outputs": [],
   "source": []
  },
  {
   "cell_type": "code",
   "execution_count": null,
   "metadata": {},
   "outputs": [],
   "source": []
  },
  {
   "cell_type": "code",
   "execution_count": null,
   "metadata": {},
   "outputs": [],
   "source": []
  },
  {
   "cell_type": "code",
   "execution_count": null,
   "metadata": {},
   "outputs": [],
   "source": []
  },
  {
   "cell_type": "code",
   "execution_count": null,
   "metadata": {},
   "outputs": [],
   "source": []
  },
  {
   "cell_type": "code",
   "execution_count": null,
   "metadata": {},
   "outputs": [],
   "source": []
  },
  {
   "cell_type": "code",
   "execution_count": null,
   "metadata": {},
   "outputs": [],
   "source": []
  },
  {
   "cell_type": "code",
   "execution_count": null,
   "metadata": {},
   "outputs": [],
   "source": []
  },
  {
   "cell_type": "code",
   "execution_count": null,
   "metadata": {},
   "outputs": [],
   "source": []
  },
  {
   "cell_type": "code",
   "execution_count": null,
   "metadata": {},
   "outputs": [],
   "source": []
  },
  {
   "cell_type": "code",
   "execution_count": null,
   "metadata": {},
   "outputs": [],
   "source": []
  },
  {
   "cell_type": "code",
   "execution_count": null,
   "metadata": {},
   "outputs": [],
   "source": []
  },
  {
   "cell_type": "code",
   "execution_count": null,
   "metadata": {},
   "outputs": [],
   "source": []
  },
  {
   "cell_type": "code",
   "execution_count": null,
   "metadata": {},
   "outputs": [],
   "source": []
  },
  {
   "cell_type": "code",
   "execution_count": null,
   "metadata": {},
   "outputs": [],
   "source": []
  },
  {
   "cell_type": "code",
   "execution_count": null,
   "metadata": {},
   "outputs": [],
   "source": []
  },
  {
   "cell_type": "code",
   "execution_count": null,
   "metadata": {},
   "outputs": [],
   "source": []
  },
  {
   "cell_type": "code",
   "execution_count": null,
   "metadata": {},
   "outputs": [],
   "source": []
  },
  {
   "cell_type": "code",
   "execution_count": null,
   "metadata": {},
   "outputs": [],
   "source": []
  },
  {
   "cell_type": "code",
   "execution_count": null,
   "metadata": {},
   "outputs": [],
   "source": []
  },
  {
   "cell_type": "code",
   "execution_count": null,
   "metadata": {},
   "outputs": [],
   "source": []
  },
  {
   "cell_type": "code",
   "execution_count": null,
   "metadata": {},
   "outputs": [],
   "source": []
  },
  {
   "cell_type": "code",
   "execution_count": null,
   "metadata": {},
   "outputs": [],
   "source": []
  },
  {
   "cell_type": "code",
   "execution_count": null,
   "metadata": {},
   "outputs": [],
   "source": []
  },
  {
   "cell_type": "code",
   "execution_count": null,
   "metadata": {},
   "outputs": [],
   "source": []
  },
  {
   "cell_type": "code",
   "execution_count": null,
   "metadata": {},
   "outputs": [],
   "source": []
  }
 ],
 "metadata": {
  "kernelspec": {
   "display_name": "Python 3",
   "language": "python",
   "name": "python3"
  },
  "language_info": {
   "codemirror_mode": {
    "name": "ipython",
    "version": 3
   },
   "file_extension": ".py",
   "mimetype": "text/x-python",
   "name": "python",
   "nbconvert_exporter": "python",
   "pygments_lexer": "ipython3",
   "version": "3.7.4"
  }
 },
 "nbformat": 4,
 "nbformat_minor": 2
}
